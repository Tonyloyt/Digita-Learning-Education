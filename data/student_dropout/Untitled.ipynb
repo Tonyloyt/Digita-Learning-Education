{
 "cells": [
  {
   "cell_type": "code",
   "execution_count": 1,
   "id": "ceb70976",
   "metadata": {},
   "outputs": [],
   "source": [
    "import pandas as pd"
   ]
  },
  {
   "cell_type": "code",
   "execution_count": 3,
   "id": "448edad6",
   "metadata": {},
   "outputs": [],
   "source": [
    "d = pd.read_csv(\"student info2.csv\")"
   ]
  },
  {
   "cell_type": "code",
   "execution_count": 4,
   "id": "f89c726d",
   "metadata": {},
   "outputs": [
    {
     "data": {
      "text/plain": [
       "Index(['Timestamp', 'Name', 'Gender', 'Department', 'Year', 'SEM 1 SGPA',\n",
       "       'SEM 1 KT', 'SEM 2 SGPA', 'SEM 2 KT', 'SEM 3 SGPA', 'SEM 3 KT',\n",
       "       'SEM 4 SGPA', 'SEM 4 KT', 'SEM 5 SGPA', 'SEM 5 KT', 'SEM 6 SGPA',\n",
       "       'SEM 6 KT', 'SEM 7 SGPA', 'SEM 7 KT', 'SEM 8 SGPA',\n",
       "       'How many hours per week do you spend on writing assignments?',\n",
       "       'How many hours per week do you spend on studies?',\n",
       "       'How much time does it take for you to reach college?',\n",
       "       'How much would you consider as your average attendance throughout all the semesters so far?',\n",
       "       'Internet availability at home', 'If yes, what is your internet speed?',\n",
       "       'What is your preferred mode of transportation to reach college?',\n",
       "       'Can you sit a lecture for 2 hrs straight?',\n",
       "       'Do you do your submissions on time?',\n",
       "       'If there are 5 hrs of lectures per day, would you attend all?',\n",
       "       'If there are 5 hrs of practicals per day, would you attend all?',\n",
       "       'Have you enrolled for coaching classes?', 'Teacher's Feedback',\n",
       "       'Have you won or participated in any Non - Technical event?', 'Label',\n",
       "       'How socially active are you?'],\n",
       "      dtype='object')"
      ]
     },
     "execution_count": 4,
     "metadata": {},
     "output_type": "execute_result"
    }
   ],
   "source": [
    "d.columns"
   ]
  },
  {
   "cell_type": "code",
   "execution_count": 7,
   "id": "fcc4dcd4",
   "metadata": {},
   "outputs": [
    {
     "data": {
      "text/plain": [
       "Timestamp                                                                                       object\n",
       "Name                                                                                            object\n",
       "Gender                                                                                          object\n",
       "Department                                                                                      object\n",
       "Year                                                                                            object\n",
       "SEM 1 SGPA                                                                                     float64\n",
       "SEM 1 KT                                                                                         int64\n",
       "SEM 2 SGPA                                                                                     float64\n",
       "SEM 2 KT                                                                                         int64\n",
       "SEM 3 SGPA                                                                                     float64\n",
       "SEM 3 KT                                                                                       float64\n",
       "SEM 4 SGPA                                                                                     float64\n",
       "SEM 4 KT                                                                                       float64\n",
       "SEM 5 SGPA                                                                                     float64\n",
       "SEM 5 KT                                                                                         int64\n",
       "SEM 6 SGPA                                                                                     float64\n",
       "SEM 6 KT                                                                                       float64\n",
       "SEM 7 SGPA                                                                                     float64\n",
       "SEM 7 KT                                                                                         int64\n",
       "SEM 8 SGPA                                                                                     float64\n",
       "How many hours per week do you spend on writing assignments?                                    object\n",
       "How many hours per week do you spend on studies?                                                object\n",
       "How much time does it take for you to reach college?                                            object\n",
       "How much would you consider as your average attendance throughout all the semesters so far?     object\n",
       "Internet availability at home                                                                   object\n",
       "If yes, what is your internet speed?                                                            object\n",
       "What is your preferred mode of transportation to reach college?                                 object\n",
       "Can you sit a lecture for 2 hrs straight?                                                       object\n",
       "Do you do your submissions on time?                                                             object\n",
       "If there are 5 hrs of lectures per day, would you attend all?                                   object\n",
       "If there are 5 hrs of practicals per day, would you attend all?                                 object\n",
       "Have you enrolled for coaching classes?                                                         object\n",
       "Teacher's Feedback                                                                              object\n",
       "Have you won or participated in any Non - Technical event?                                      object\n",
       "Label                                                                                          float64\n",
       "How socially active are you?                                                                    object\n",
       "dtype: object"
      ]
     },
     "execution_count": 7,
     "metadata": {},
     "output_type": "execute_result"
    }
   ],
   "source": [
    "d.dtypes"
   ]
  },
  {
   "cell_type": "code",
   "execution_count": 21,
   "id": "fb226e32",
   "metadata": {},
   "outputs": [
    {
     "data": {
      "text/plain": [
       "array(['Train', 'Private Vehicle', 'Bus'], dtype=object)"
      ]
     },
     "execution_count": 21,
     "metadata": {},
     "output_type": "execute_result"
    }
   ],
   "source": [
    "d['What is your preferred mode of transportation to reach college?'].unique()"
   ]
  },
  {
   "cell_type": "code",
   "execution_count": 19,
   "id": "3072ace3",
   "metadata": {},
   "outputs": [
    {
     "data": {
      "text/plain": [
       "array(['Good student', 'Good leadership skills', 'Hard working',\n",
       "       'Responsible', 'Disciplined and hard working',\n",
       "       'Good but can be better', 'Excellent performance',\n",
       "       'willingness to put effort', 'Willingness to Put Forth Effort',\n",
       "       'Respectful to Authority and Others',\n",
       "       'Solid Social and Emotional Skills', 'Self-Motivated',\n",
       "       'Eagerness to Learn', 'Not attentive',\n",
       "       'Does not follow my lecture', 'Very talkative',\n",
       "       'Needs improvement', 'Poor attendance', 'Lagging Behind',\n",
       "       'Disappointed performance', 'Argues with teacher', 'Bunk lectuer',\n",
       "       'Always late', 'Always late and Does not follow my lecture',\n",
       "       'Does not follow my lecture and Very talkative',\n",
       "       'Very talkative and Poor attendance',\n",
       "       'Argues with teacher and Bunk lectuer',\n",
       "       'Needs improvement and Not attentive'], dtype=object)"
      ]
     },
     "execution_count": 19,
     "metadata": {},
     "output_type": "execute_result"
    }
   ],
   "source": [
    "d[\"Teacher's Feedback\"].unique()"
   ]
  },
  {
   "cell_type": "code",
   "execution_count": null,
   "id": "15512ecb",
   "metadata": {},
   "outputs": [],
   "source": [
    "d[''].unique()"
   ]
  },
  {
   "cell_type": "code",
   "execution_count": null,
   "id": "f544644a",
   "metadata": {},
   "outputs": [],
   "source": [
    "d[''].unique()"
   ]
  }
 ],
 "metadata": {
  "kernelspec": {
   "display_name": "Python 3",
   "language": "python",
   "name": "python3"
  },
  "language_info": {
   "codemirror_mode": {
    "name": "ipython",
    "version": 3
   },
   "file_extension": ".py",
   "mimetype": "text/x-python",
   "name": "python",
   "nbconvert_exporter": "python",
   "pygments_lexer": "ipython3",
   "version": "3.8.8"
  }
 },
 "nbformat": 4,
 "nbformat_minor": 5
}
