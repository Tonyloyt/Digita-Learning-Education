{
 "cells": [
  {
   "cell_type": "code",
   "execution_count": 16,
   "id": "593ab943",
   "metadata": {},
   "outputs": [],
   "source": [
    "import pandas as pd\n",
    "import numpy as np\n",
    "from sklearn.model_selection import train_test_split\n",
    "from sklearn.metrics import accuracy_score, confusion_matrix\n",
    "from sklearn.linear_model import LogisticRegression\n",
    "import joblib\n",
    "\n",
    "# Let's define seed for reproducebility\n",
    "seed = 42"
   ]
  },
  {
   "cell_type": "code",
   "execution_count": 17,
   "id": "424c1165",
   "metadata": {},
   "outputs": [],
   "source": [
    "df = pd.read_csv(\"processed1.csv\")"
   ]
  },
  {
   "cell_type": "code",
   "execution_count": 18,
   "id": "76a041df",
   "metadata": {},
   "outputs": [
    {
     "data": {
      "text/html": [
       "<div>\n",
       "<style scoped>\n",
       "    .dataframe tbody tr th:only-of-type {\n",
       "        vertical-align: middle;\n",
       "    }\n",
       "\n",
       "    .dataframe tbody tr th {\n",
       "        vertical-align: top;\n",
       "    }\n",
       "\n",
       "    .dataframe thead th {\n",
       "        text-align: right;\n",
       "    }\n",
       "</style>\n",
       "<table border=\"1\" class=\"dataframe\">\n",
       "  <thead>\n",
       "    <tr style=\"text-align: right;\">\n",
       "      <th></th>\n",
       "      <th>Unnamed: 0</th>\n",
       "      <th>SEM 1 KT</th>\n",
       "      <th>SEM 2 SGPA</th>\n",
       "      <th>SEM 2 KT</th>\n",
       "      <th>SEM 4 SGPA</th>\n",
       "      <th>SEM 5 SGPA</th>\n",
       "      <th>SEM 6 SGPA</th>\n",
       "      <th>SEM 7 SGPA</th>\n",
       "      <th>SEM 8 SGPA</th>\n",
       "      <th>Label</th>\n",
       "      <th>...</th>\n",
       "      <th>time_to_reach college</th>\n",
       "      <th>Average attendence</th>\n",
       "      <th>Internet at home</th>\n",
       "      <th>2 hr straight lecture</th>\n",
       "      <th>submission on time</th>\n",
       "      <th>Five lecture straight,woulf you attend all?</th>\n",
       "      <th>Five hr practical staight,do you attend all</th>\n",
       "      <th>Feedback of teacher</th>\n",
       "      <th>preffered transportatin to college</th>\n",
       "      <th>Enrolled to coaching class</th>\n",
       "    </tr>\n",
       "  </thead>\n",
       "  <tbody>\n",
       "    <tr>\n",
       "      <th>0</th>\n",
       "      <td>5</td>\n",
       "      <td>2</td>\n",
       "      <td>6.10</td>\n",
       "      <td>1</td>\n",
       "      <td>5.90</td>\n",
       "      <td>5.40</td>\n",
       "      <td>5.2</td>\n",
       "      <td>6.1</td>\n",
       "      <td>6.20</td>\n",
       "      <td>1</td>\n",
       "      <td>...</td>\n",
       "      <td>2</td>\n",
       "      <td>1</td>\n",
       "      <td>1</td>\n",
       "      <td>1</td>\n",
       "      <td>1</td>\n",
       "      <td>1</td>\n",
       "      <td>1</td>\n",
       "      <td>6</td>\n",
       "      <td>2</td>\n",
       "      <td>1</td>\n",
       "    </tr>\n",
       "    <tr>\n",
       "      <th>1</th>\n",
       "      <td>123</td>\n",
       "      <td>2</td>\n",
       "      <td>6.10</td>\n",
       "      <td>2</td>\n",
       "      <td>6.20</td>\n",
       "      <td>6.90</td>\n",
       "      <td>6.0</td>\n",
       "      <td>8.5</td>\n",
       "      <td>5.60</td>\n",
       "      <td>1</td>\n",
       "      <td>...</td>\n",
       "      <td>2</td>\n",
       "      <td>2</td>\n",
       "      <td>1</td>\n",
       "      <td>0</td>\n",
       "      <td>1</td>\n",
       "      <td>0</td>\n",
       "      <td>1</td>\n",
       "      <td>10</td>\n",
       "      <td>2</td>\n",
       "      <td>0</td>\n",
       "    </tr>\n",
       "    <tr>\n",
       "      <th>2</th>\n",
       "      <td>154</td>\n",
       "      <td>0</td>\n",
       "      <td>6.08</td>\n",
       "      <td>0</td>\n",
       "      <td>5.41</td>\n",
       "      <td>6.88</td>\n",
       "      <td>6.0</td>\n",
       "      <td>6.2</td>\n",
       "      <td>6.15</td>\n",
       "      <td>1</td>\n",
       "      <td>...</td>\n",
       "      <td>0</td>\n",
       "      <td>1</td>\n",
       "      <td>1</td>\n",
       "      <td>0</td>\n",
       "      <td>1</td>\n",
       "      <td>1</td>\n",
       "      <td>0</td>\n",
       "      <td>10</td>\n",
       "      <td>2</td>\n",
       "      <td>0</td>\n",
       "    </tr>\n",
       "    <tr>\n",
       "      <th>3</th>\n",
       "      <td>132</td>\n",
       "      <td>0</td>\n",
       "      <td>6.20</td>\n",
       "      <td>0</td>\n",
       "      <td>7.30</td>\n",
       "      <td>5.50</td>\n",
       "      <td>7.6</td>\n",
       "      <td>7.4</td>\n",
       "      <td>6.70</td>\n",
       "      <td>1</td>\n",
       "      <td>...</td>\n",
       "      <td>0</td>\n",
       "      <td>3</td>\n",
       "      <td>1</td>\n",
       "      <td>1</td>\n",
       "      <td>1</td>\n",
       "      <td>1</td>\n",
       "      <td>1</td>\n",
       "      <td>22</td>\n",
       "      <td>2</td>\n",
       "      <td>1</td>\n",
       "    </tr>\n",
       "    <tr>\n",
       "      <th>4</th>\n",
       "      <td>98</td>\n",
       "      <td>0</td>\n",
       "      <td>8.96</td>\n",
       "      <td>0</td>\n",
       "      <td>7.60</td>\n",
       "      <td>6.20</td>\n",
       "      <td>8.6</td>\n",
       "      <td>5.6</td>\n",
       "      <td>9.00</td>\n",
       "      <td>1</td>\n",
       "      <td>...</td>\n",
       "      <td>2</td>\n",
       "      <td>3</td>\n",
       "      <td>1</td>\n",
       "      <td>1</td>\n",
       "      <td>1</td>\n",
       "      <td>1</td>\n",
       "      <td>0</td>\n",
       "      <td>11</td>\n",
       "      <td>1</td>\n",
       "      <td>0</td>\n",
       "    </tr>\n",
       "  </tbody>\n",
       "</table>\n",
       "<p>5 rows × 21 columns</p>\n",
       "</div>"
      ],
      "text/plain": [
       "   Unnamed: 0  SEM 1 KT  SEM 2 SGPA  SEM 2 KT  SEM 4 SGPA  SEM 5 SGPA  \\\n",
       "0           5         2        6.10         1        5.90        5.40   \n",
       "1         123         2        6.10         2        6.20        6.90   \n",
       "2         154         0        6.08         0        5.41        6.88   \n",
       "3         132         0        6.20         0        7.30        5.50   \n",
       "4          98         0        8.96         0        7.60        6.20   \n",
       "\n",
       "   SEM 6 SGPA  SEM 7 SGPA  SEM 8 SGPA  Label  ...  time_to_reach college  \\\n",
       "0         5.2         6.1        6.20      1  ...                      2   \n",
       "1         6.0         8.5        5.60      1  ...                      2   \n",
       "2         6.0         6.2        6.15      1  ...                      0   \n",
       "3         7.6         7.4        6.70      1  ...                      0   \n",
       "4         8.6         5.6        9.00      1  ...                      2   \n",
       "\n",
       "   Average attendence  Internet at home  2 hr straight lecture  \\\n",
       "0                   1                 1                      1   \n",
       "1                   2                 1                      0   \n",
       "2                   1                 1                      0   \n",
       "3                   3                 1                      1   \n",
       "4                   3                 1                      1   \n",
       "\n",
       "   submission on time  Five lecture straight,woulf you attend all?  \\\n",
       "0                   1                                            1   \n",
       "1                   1                                            0   \n",
       "2                   1                                            1   \n",
       "3                   1                                            1   \n",
       "4                   1                                            1   \n",
       "\n",
       "   Five hr practical staight,do you attend all  Feedback of teacher  \\\n",
       "0                                            1                    6   \n",
       "1                                            1                   10   \n",
       "2                                            0                   10   \n",
       "3                                            1                   22   \n",
       "4                                            0                   11   \n",
       "\n",
       "   preffered transportatin to college  Enrolled to coaching class  \n",
       "0                                   2                           1  \n",
       "1                                   2                           0  \n",
       "2                                   2                           0  \n",
       "3                                   2                           1  \n",
       "4                                   1                           0  \n",
       "\n",
       "[5 rows x 21 columns]"
      ]
     },
     "execution_count": 18,
     "metadata": {},
     "output_type": "execute_result"
    }
   ],
   "source": [
    "df.head()"
   ]
  },
  {
   "cell_type": "code",
   "execution_count": 19,
   "id": "cbdd776c",
   "metadata": {},
   "outputs": [],
   "source": [
    "# Let's split the data set(target and features)\n",
    "\n",
    "y=df[\"Label\"]\n",
    "df.drop([\"Label\",\"Unnamed: 0\"],axis=1,inplace=True)\n",
    "X=df.copy()"
   ]
  },
  {
   "cell_type": "code",
   "execution_count": 20,
   "id": "b7cf12c6",
   "metadata": {},
   "outputs": [
    {
     "data": {
      "text/plain": [
       "((262, 19), (262,))"
      ]
     },
     "execution_count": 20,
     "metadata": {},
     "output_type": "execute_result"
    }
   ],
   "source": [
    "X.shape , y.shape"
   ]
  },
  {
   "cell_type": "code",
   "execution_count": 21,
   "id": "b5697d01",
   "metadata": {},
   "outputs": [
    {
     "data": {
      "text/plain": [
       "Index(['SEM 1 KT', 'SEM 2 SGPA', 'SEM 2 KT', 'SEM 4 SGPA', 'SEM 5 SGPA',\n",
       "       'SEM 6 SGPA', 'SEM 7 SGPA', 'SEM 8 SGPA', 'Hour_per_week_wriassignment',\n",
       "       'time_to_reach college', 'Average attendence', 'Internet at home',\n",
       "       '2 hr straight lecture', 'submission on time',\n",
       "       'Five lecture straight,woulf you attend all?',\n",
       "       'Five hr practical staight,do you attend all', 'Feedback of teacher',\n",
       "       'preffered transportatin to college', 'Enrolled to coaching class'],\n",
       "      dtype='object')"
      ]
     },
     "execution_count": 21,
     "metadata": {},
     "output_type": "execute_result"
    }
   ],
   "source": [
    "X.columns"
   ]
  },
  {
   "cell_type": "code",
   "execution_count": 12,
   "id": "b9a7a38c",
   "metadata": {},
   "outputs": [],
   "source": [
    "# let's split data , for model training\n",
    "\n",
    "X_train, X_test, y_train, y_test = train_test_split(X, y, stratify = y, test_size = 0.2, random_state = seed)"
   ]
  },
  {
   "cell_type": "code",
   "execution_count": 13,
   "id": "bf1c3157",
   "metadata": {},
   "outputs": [
    {
     "name": "stdout",
     "output_type": "stream",
     "text": [
      "Accuracy of the model:  1.0\n"
     ]
    }
   ],
   "source": [
    "# initialize the model\n",
    "\n",
    "model = LogisticRegression()\n",
    "\n",
    "# training model \n",
    "\n",
    "model.fit(X_train, y_train)\n",
    "\n",
    "y_pred = model.predict(X_test)\n",
    "\n",
    "# Evaluate\n",
    "\n",
    "print(\"Accuracy of the model: \", accuracy_score(y_test, y_pred))"
   ]
  },
  {
   "cell_type": "code",
   "execution_count": 14,
   "id": "758788d4",
   "metadata": {},
   "outputs": [
    {
     "name": "stdout",
     "output_type": "stream",
     "text": [
      "[[33  0]\n",
      " [ 0 20]]\n"
     ]
    }
   ],
   "source": [
    "# Evaluate with confusion matrix\n",
    "\n",
    "print(confusion_matrix(y_test, y_pred))"
   ]
  },
  {
   "cell_type": "code",
   "execution_count": 15,
   "id": "bb8c7de3",
   "metadata": {},
   "outputs": [
    {
     "data": {
      "text/plain": [
       "['../../models/student_dropout/model_sd.sav']"
      ]
     },
     "execution_count": 15,
     "metadata": {},
     "output_type": "execute_result"
    }
   ],
   "source": [
    "# Let's store our model\n",
    "\n",
    "#Sava the model to disk\n",
    "filename = '../../models/student_dropout/model_sd.sav'\n",
    "joblib.dump(model, filename)"
   ]
  },
  {
   "cell_type": "code",
   "execution_count": null,
   "id": "1f97832c",
   "metadata": {},
   "outputs": [],
   "source": []
  }
 ],
 "metadata": {
  "kernelspec": {
   "display_name": "Python 3",
   "language": "python",
   "name": "python3"
  },
  "language_info": {
   "codemirror_mode": {
    "name": "ipython",
    "version": 3
   },
   "file_extension": ".py",
   "mimetype": "text/x-python",
   "name": "python",
   "nbconvert_exporter": "python",
   "pygments_lexer": "ipython3",
   "version": "3.8.8"
  }
 },
 "nbformat": 4,
 "nbformat_minor": 5
}
