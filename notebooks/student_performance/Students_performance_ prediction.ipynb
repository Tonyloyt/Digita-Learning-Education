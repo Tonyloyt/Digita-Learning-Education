{
 "cells": [
  {
   "cell_type": "markdown",
   "id": "600a30bf",
   "metadata": {},
   "source": [
    "### OCI Data Science - Useful Tips\n",
    "<details>\n",
    "<summary><font size=\"2\">Check for Public Internet Access</font></summary>\n",
    "\n",
    "```python\n",
    "import requests\n",
    "response = requests.get(\"https://oracle.com\")\n",
    "assert response.status_code==200, \"Internet connection failed\"\n",
    "```\n",
    "</details>\n",
    "<details>\n",
    "<summary><font size=\"2\">Helpful Documentation </font></summary>\n",
    "<ul><li><a href=\"https://docs.cloud.oracle.com/en-us/iaas/data-science/using/data-science.htm\">Data Science Service Documentation</a></li>\n",
    "<li><a href=\"https://docs.cloud.oracle.com/iaas/tools/ads-sdk/latest/index.html\">ADS documentation</a></li>\n",
    "</ul>\n",
    "</details>\n",
    "<details>\n",
    "<summary><font size=\"2\">Typical Cell Imports and Settings for ADS</font></summary>\n",
    "\n",
    "```python\n",
    "%load_ext autoreload\n",
    "%autoreload 2\n",
    "%matplotlib inline\n",
    "\n",
    "import warnings\n",
    "warnings.filterwarnings('ignore')\n",
    "\n",
    "import logging\n",
    "logging.basicConfig(format='%(levelname)s:%(message)s', level=logging.ERROR)\n",
    "\n",
    "import ads\n",
    "from ads.dataset.factory import DatasetFactory\n",
    "from ads.automl.provider import OracleAutoMLProvider\n",
    "from ads.automl.driver import AutoML\n",
    "from ads.evaluations.evaluator import ADSEvaluator\n",
    "from ads.common.data import ADSData\n",
    "from ads.explanations.explainer import ADSExplainer\n",
    "from ads.explanations.mlx_global_explainer import MLXGlobalExplainer\n",
    "from ads.explanations.mlx_local_explainer import MLXLocalExplainer\n",
    "from ads.catalog.model import ModelCatalog\n",
    "from ads.common.model_artifact import ModelArtifact\n",
    "```\n",
    "</details>\n",
    "<details>\n",
    "<summary><font size=\"2\">Useful Environment Variables</font></summary>\n",
    "\n",
    "```python\n",
    "import os\n",
    "print(os.environ[\"NB_SESSION_COMPARTMENT_OCID\"])\n",
    "print(os.environ[\"PROJECT_OCID\"])\n",
    "print(os.environ[\"USER_OCID\"])\n",
    "print(os.environ[\"TENANCY_OCID\"])\n",
    "print(os.environ[\"NB_REGION\"])\n",
    "```\n",
    "</details>"
   ]
  },
  {
   "cell_type": "code",
   "execution_count": 201,
   "id": "65bfe0cc",
   "metadata": {},
   "outputs": [],
   "source": [
    "import numpy as np\n",
    "import pandas as pd\n",
    "from sklearn.preprocessing import LabelEncoder , MinMaxScaler\n",
    "from sklearn.model_selection import train_test_split\n",
    "from sklearn.ensemble import RandomForestClassifier\n",
    "import joblib"
   ]
  },
  {
   "cell_type": "code",
   "execution_count": 189,
   "id": "84384ada",
   "metadata": {},
   "outputs": [],
   "source": [
    "# Let's load the data\n",
    "df = pd.read_csv(\"../../data/student_performance/xAPI-Edu-Data.csv\")"
   ]
  },
  {
   "cell_type": "code",
   "execution_count": 190,
   "id": "19e8c5cb",
   "metadata": {},
   "outputs": [
    {
     "data": {
      "text/html": [
       "<div>\n",
       "<style scoped>\n",
       "    .dataframe tbody tr th:only-of-type {\n",
       "        vertical-align: middle;\n",
       "    }\n",
       "\n",
       "    .dataframe tbody tr th {\n",
       "        vertical-align: top;\n",
       "    }\n",
       "\n",
       "    .dataframe thead th {\n",
       "        text-align: right;\n",
       "    }\n",
       "</style>\n",
       "<table border=\"1\" class=\"dataframe\">\n",
       "  <thead>\n",
       "    <tr style=\"text-align: right;\">\n",
       "      <th></th>\n",
       "      <th>gender</th>\n",
       "      <th>NationalITy</th>\n",
       "      <th>PlaceofBirth</th>\n",
       "      <th>StageID</th>\n",
       "      <th>GradeID</th>\n",
       "      <th>SectionID</th>\n",
       "      <th>Topic</th>\n",
       "      <th>Semester</th>\n",
       "      <th>Relation</th>\n",
       "      <th>raisedhands</th>\n",
       "      <th>VisITedResources</th>\n",
       "      <th>AnnouncementsView</th>\n",
       "      <th>Discussion</th>\n",
       "      <th>ParentAnsweringSurvey</th>\n",
       "      <th>ParentschoolSatisfaction</th>\n",
       "      <th>StudentAbsenceDays</th>\n",
       "      <th>Class</th>\n",
       "    </tr>\n",
       "  </thead>\n",
       "  <tbody>\n",
       "    <tr>\n",
       "      <th>0</th>\n",
       "      <td>M</td>\n",
       "      <td>KW</td>\n",
       "      <td>KuwaIT</td>\n",
       "      <td>lowerlevel</td>\n",
       "      <td>G-04</td>\n",
       "      <td>A</td>\n",
       "      <td>IT</td>\n",
       "      <td>F</td>\n",
       "      <td>Father</td>\n",
       "      <td>15</td>\n",
       "      <td>16</td>\n",
       "      <td>2</td>\n",
       "      <td>20</td>\n",
       "      <td>Yes</td>\n",
       "      <td>Good</td>\n",
       "      <td>Under-7</td>\n",
       "      <td>M</td>\n",
       "    </tr>\n",
       "    <tr>\n",
       "      <th>1</th>\n",
       "      <td>M</td>\n",
       "      <td>KW</td>\n",
       "      <td>KuwaIT</td>\n",
       "      <td>lowerlevel</td>\n",
       "      <td>G-04</td>\n",
       "      <td>A</td>\n",
       "      <td>IT</td>\n",
       "      <td>F</td>\n",
       "      <td>Father</td>\n",
       "      <td>20</td>\n",
       "      <td>20</td>\n",
       "      <td>3</td>\n",
       "      <td>25</td>\n",
       "      <td>Yes</td>\n",
       "      <td>Good</td>\n",
       "      <td>Under-7</td>\n",
       "      <td>M</td>\n",
       "    </tr>\n",
       "    <tr>\n",
       "      <th>2</th>\n",
       "      <td>M</td>\n",
       "      <td>KW</td>\n",
       "      <td>KuwaIT</td>\n",
       "      <td>lowerlevel</td>\n",
       "      <td>G-04</td>\n",
       "      <td>A</td>\n",
       "      <td>IT</td>\n",
       "      <td>F</td>\n",
       "      <td>Father</td>\n",
       "      <td>10</td>\n",
       "      <td>7</td>\n",
       "      <td>0</td>\n",
       "      <td>30</td>\n",
       "      <td>No</td>\n",
       "      <td>Bad</td>\n",
       "      <td>Above-7</td>\n",
       "      <td>L</td>\n",
       "    </tr>\n",
       "    <tr>\n",
       "      <th>3</th>\n",
       "      <td>M</td>\n",
       "      <td>KW</td>\n",
       "      <td>KuwaIT</td>\n",
       "      <td>lowerlevel</td>\n",
       "      <td>G-04</td>\n",
       "      <td>A</td>\n",
       "      <td>IT</td>\n",
       "      <td>F</td>\n",
       "      <td>Father</td>\n",
       "      <td>30</td>\n",
       "      <td>25</td>\n",
       "      <td>5</td>\n",
       "      <td>35</td>\n",
       "      <td>No</td>\n",
       "      <td>Bad</td>\n",
       "      <td>Above-7</td>\n",
       "      <td>L</td>\n",
       "    </tr>\n",
       "    <tr>\n",
       "      <th>4</th>\n",
       "      <td>M</td>\n",
       "      <td>KW</td>\n",
       "      <td>KuwaIT</td>\n",
       "      <td>lowerlevel</td>\n",
       "      <td>G-04</td>\n",
       "      <td>A</td>\n",
       "      <td>IT</td>\n",
       "      <td>F</td>\n",
       "      <td>Father</td>\n",
       "      <td>40</td>\n",
       "      <td>50</td>\n",
       "      <td>12</td>\n",
       "      <td>50</td>\n",
       "      <td>No</td>\n",
       "      <td>Bad</td>\n",
       "      <td>Above-7</td>\n",
       "      <td>M</td>\n",
       "    </tr>\n",
       "  </tbody>\n",
       "</table>\n",
       "</div>"
      ],
      "text/plain": [
       "  gender NationalITy PlaceofBirth     StageID GradeID SectionID Topic  \\\n",
       "0      M          KW       KuwaIT  lowerlevel    G-04         A    IT   \n",
       "1      M          KW       KuwaIT  lowerlevel    G-04         A    IT   \n",
       "2      M          KW       KuwaIT  lowerlevel    G-04         A    IT   \n",
       "3      M          KW       KuwaIT  lowerlevel    G-04         A    IT   \n",
       "4      M          KW       KuwaIT  lowerlevel    G-04         A    IT   \n",
       "\n",
       "  Semester Relation  raisedhands  VisITedResources  AnnouncementsView  \\\n",
       "0        F   Father           15                16                  2   \n",
       "1        F   Father           20                20                  3   \n",
       "2        F   Father           10                 7                  0   \n",
       "3        F   Father           30                25                  5   \n",
       "4        F   Father           40                50                 12   \n",
       "\n",
       "   Discussion ParentAnsweringSurvey ParentschoolSatisfaction  \\\n",
       "0          20                   Yes                     Good   \n",
       "1          25                   Yes                     Good   \n",
       "2          30                    No                      Bad   \n",
       "3          35                    No                      Bad   \n",
       "4          50                    No                      Bad   \n",
       "\n",
       "  StudentAbsenceDays Class  \n",
       "0            Under-7     M  \n",
       "1            Under-7     M  \n",
       "2            Above-7     L  \n",
       "3            Above-7     L  \n",
       "4            Above-7     M  "
      ]
     },
     "execution_count": 190,
     "metadata": {},
     "output_type": "execute_result"
    }
   ],
   "source": [
    "# Let's preview the data from top\n",
    "df.head()"
   ]
  },
  {
   "cell_type": "code",
   "execution_count": 191,
   "id": "365c1cb2",
   "metadata": {},
   "outputs": [
    {
     "data": {
      "text/plain": [
       "(480, 17)"
      ]
     },
     "execution_count": 191,
     "metadata": {},
     "output_type": "execute_result"
    }
   ],
   "source": [
    "# Let's check the shape of the data set\n",
    "df.shape"
   ]
  },
  {
   "cell_type": "code",
   "execution_count": 192,
   "id": "da04323f",
   "metadata": {},
   "outputs": [
    {
     "name": "stdout",
     "output_type": "stream",
     "text": [
      "<class 'pandas.core.frame.DataFrame'>\n",
      "RangeIndex: 480 entries, 0 to 479\n",
      "Data columns (total 17 columns):\n",
      " #   Column                    Non-Null Count  Dtype \n",
      "---  ------                    --------------  ----- \n",
      " 0   gender                    480 non-null    object\n",
      " 1   NationalITy               480 non-null    object\n",
      " 2   PlaceofBirth              480 non-null    object\n",
      " 3   StageID                   480 non-null    object\n",
      " 4   GradeID                   480 non-null    object\n",
      " 5   SectionID                 480 non-null    object\n",
      " 6   Topic                     480 non-null    object\n",
      " 7   Semester                  480 non-null    object\n",
      " 8   Relation                  480 non-null    object\n",
      " 9   raisedhands               480 non-null    int64 \n",
      " 10  VisITedResources          480 non-null    int64 \n",
      " 11  AnnouncementsView         480 non-null    int64 \n",
      " 12  Discussion                480 non-null    int64 \n",
      " 13  ParentAnsweringSurvey     480 non-null    object\n",
      " 14  ParentschoolSatisfaction  480 non-null    object\n",
      " 15  StudentAbsenceDays        480 non-null    object\n",
      " 16  Class                     480 non-null    object\n",
      "dtypes: int64(4), object(13)\n",
      "memory usage: 63.9+ KB\n"
     ]
    }
   ],
   "source": [
    "# Let's check information of the data set\n",
    "df.info()"
   ]
  },
  {
   "cell_type": "markdown",
   "id": "1fe239ea",
   "metadata": {},
   "source": [
    "**Note:**\n",
    "\n",
    "- Only three features are integers and other 12 are objects(categorical)"
   ]
  },
  {
   "cell_type": "code",
   "execution_count": 193,
   "id": "ce84ee2c",
   "metadata": {},
   "outputs": [
    {
     "data": {
      "text/html": [
       "<div>\n",
       "<style scoped>\n",
       "    .dataframe tbody tr th:only-of-type {\n",
       "        vertical-align: middle;\n",
       "    }\n",
       "\n",
       "    .dataframe tbody tr th {\n",
       "        vertical-align: top;\n",
       "    }\n",
       "\n",
       "    .dataframe thead th {\n",
       "        text-align: right;\n",
       "    }\n",
       "</style>\n",
       "<table border=\"1\" class=\"dataframe\">\n",
       "  <thead>\n",
       "    <tr style=\"text-align: right;\">\n",
       "      <th></th>\n",
       "      <th>count</th>\n",
       "      <th>mean</th>\n",
       "      <th>std</th>\n",
       "      <th>min</th>\n",
       "      <th>25%</th>\n",
       "      <th>50%</th>\n",
       "      <th>75%</th>\n",
       "      <th>max</th>\n",
       "    </tr>\n",
       "  </thead>\n",
       "  <tbody>\n",
       "    <tr>\n",
       "      <th>raisedhands</th>\n",
       "      <td>480.0</td>\n",
       "      <td>46.775000</td>\n",
       "      <td>30.779223</td>\n",
       "      <td>0.0</td>\n",
       "      <td>15.75</td>\n",
       "      <td>50.0</td>\n",
       "      <td>75.0</td>\n",
       "      <td>100.0</td>\n",
       "    </tr>\n",
       "    <tr>\n",
       "      <th>VisITedResources</th>\n",
       "      <td>480.0</td>\n",
       "      <td>54.797917</td>\n",
       "      <td>33.080007</td>\n",
       "      <td>0.0</td>\n",
       "      <td>20.00</td>\n",
       "      <td>65.0</td>\n",
       "      <td>84.0</td>\n",
       "      <td>99.0</td>\n",
       "    </tr>\n",
       "    <tr>\n",
       "      <th>AnnouncementsView</th>\n",
       "      <td>480.0</td>\n",
       "      <td>37.918750</td>\n",
       "      <td>26.611244</td>\n",
       "      <td>0.0</td>\n",
       "      <td>14.00</td>\n",
       "      <td>33.0</td>\n",
       "      <td>58.0</td>\n",
       "      <td>98.0</td>\n",
       "    </tr>\n",
       "    <tr>\n",
       "      <th>Discussion</th>\n",
       "      <td>480.0</td>\n",
       "      <td>43.283333</td>\n",
       "      <td>27.637735</td>\n",
       "      <td>1.0</td>\n",
       "      <td>20.00</td>\n",
       "      <td>39.0</td>\n",
       "      <td>70.0</td>\n",
       "      <td>99.0</td>\n",
       "    </tr>\n",
       "  </tbody>\n",
       "</table>\n",
       "</div>"
      ],
      "text/plain": [
       "                   count       mean        std  min    25%   50%   75%    max\n",
       "raisedhands        480.0  46.775000  30.779223  0.0  15.75  50.0  75.0  100.0\n",
       "VisITedResources   480.0  54.797917  33.080007  0.0  20.00  65.0  84.0   99.0\n",
       "AnnouncementsView  480.0  37.918750  26.611244  0.0  14.00  33.0  58.0   98.0\n",
       "Discussion         480.0  43.283333  27.637735  1.0  20.00  39.0  70.0   99.0"
      ]
     },
     "execution_count": 193,
     "metadata": {},
     "output_type": "execute_result"
    }
   ],
   "source": [
    "# Let's describe integer features\n",
    "df.describe().T"
   ]
  },
  {
   "cell_type": "markdown",
   "id": "aa70f211",
   "metadata": {},
   "source": [
    "**Note:**\n",
    "\n",
    "- The average of students raised their hands is 46.775\n",
    "- The average of students visited resources is 54.8\n",
    "- The average of students viewed announcements is 37, seems majority of students aren't has tendace of viewing anouncements\n",
    "- The average number of students joined discussion is 43 , the greater number of students aren't doing discussion"
   ]
  },
  {
   "cell_type": "code",
   "execution_count": 194,
   "id": "43cb8c39",
   "metadata": {},
   "outputs": [
    {
     "data": {
      "text/plain": [
       "False"
      ]
     },
     "execution_count": 194,
     "metadata": {},
     "output_type": "execute_result"
    }
   ],
   "source": [
    "# Let's check for null values\n",
    "\n",
    "df.isnull().sum().any()"
   ]
  },
  {
   "cell_type": "markdown",
   "id": "540f59d7",
   "metadata": {},
   "source": [
    "**Note:**\n",
    "\n",
    "- data sets doen't has empty values"
   ]
  },
  {
   "cell_type": "code",
   "execution_count": 195,
   "id": "b4fa0846",
   "metadata": {},
   "outputs": [
    {
     "data": {
      "text/plain": [
       "M    211\n",
       "H    142\n",
       "L    127\n",
       "Name: Class, dtype: int64"
      ]
     },
     "execution_count": 195,
     "metadata": {},
     "output_type": "execute_result"
    }
   ],
   "source": [
    "# Let's see the distribution of performances\n",
    "\n",
    "df.Class.value_counts()"
   ]
  },
  {
   "cell_type": "markdown",
   "id": "47494937",
   "metadata": {},
   "source": [
    "**Note:**\n",
    "\n",
    "- Most of student's performance is medium\n",
    "- The distribution of three classes not much bad but is not equally distibuted"
   ]
  },
  {
   "cell_type": "code",
   "execution_count": 196,
   "id": "195fda6a",
   "metadata": {},
   "outputs": [
    {
     "data": {
      "text/plain": [
       "Index(['gender', 'NationalITy', 'PlaceofBirth', 'StageID', 'GradeID',\n",
       "       'SectionID', 'Topic', 'Semester', 'Relation', 'raisedhands',\n",
       "       'VisITedResources', 'AnnouncementsView', 'Discussion',\n",
       "       'ParentAnsweringSurvey', 'ParentschoolSatisfaction',\n",
       "       'StudentAbsenceDays', 'Class'],\n",
       "      dtype='object')"
      ]
     },
     "execution_count": 196,
     "metadata": {},
     "output_type": "execute_result"
    }
   ],
   "source": [
    "# Let's check dataset columns\n",
    "df.columns"
   ]
  },
  {
   "cell_type": "code",
   "execution_count": 197,
   "id": "ae693f3b",
   "metadata": {},
   "outputs": [
    {
     "data": {
      "text/plain": [
       "array(['M', 'F'], dtype=object)"
      ]
     },
     "execution_count": 197,
     "metadata": {},
     "output_type": "execute_result"
    }
   ],
   "source": [
    "df.gender.unique()"
   ]
  },
  {
   "cell_type": "code",
   "execution_count": 165,
   "id": "76152061",
   "metadata": {},
   "outputs": [
    {
     "data": {
      "text/plain": [
       "array(['KW', 'lebanon', 'Egypt', 'SaudiArabia', 'USA', 'Jordan',\n",
       "       'venzuela', 'Iran', 'Tunis', 'Morocco', 'Syria', 'Palestine',\n",
       "       'Iraq', 'Lybia'], dtype=object)"
      ]
     },
     "execution_count": 165,
     "metadata": {},
     "output_type": "execute_result"
    }
   ],
   "source": [
    "df.NationalITy.unique()"
   ]
  },
  {
   "cell_type": "code",
   "execution_count": 166,
   "id": "b13cfcfa",
   "metadata": {},
   "outputs": [
    {
     "data": {
      "text/plain": [
       "array(['KuwaIT', 'lebanon', 'Egypt', 'SaudiArabia', 'USA', 'Jordan',\n",
       "       'venzuela', 'Iran', 'Tunis', 'Morocco', 'Syria', 'Iraq',\n",
       "       'Palestine', 'Lybia'], dtype=object)"
      ]
     },
     "execution_count": 166,
     "metadata": {},
     "output_type": "execute_result"
    }
   ],
   "source": [
    "df.PlaceofBirth.unique()"
   ]
  },
  {
   "cell_type": "code",
   "execution_count": 167,
   "id": "d30746e1",
   "metadata": {},
   "outputs": [
    {
     "data": {
      "text/plain": [
       "array(['lowerlevel', 'MiddleSchool', 'HighSchool'], dtype=object)"
      ]
     },
     "execution_count": 167,
     "metadata": {},
     "output_type": "execute_result"
    }
   ],
   "source": [
    "df.StageID.unique()"
   ]
  },
  {
   "cell_type": "code",
   "execution_count": 168,
   "id": "5470dfab",
   "metadata": {},
   "outputs": [
    {
     "data": {
      "text/plain": [
       "array(['G-04', 'G-07', 'G-08', 'G-06', 'G-05', 'G-09', 'G-12', 'G-11',\n",
       "       'G-10', 'G-02'], dtype=object)"
      ]
     },
     "execution_count": 168,
     "metadata": {},
     "output_type": "execute_result"
    }
   ],
   "source": [
    "df.GradeID.unique()"
   ]
  },
  {
   "cell_type": "code",
   "execution_count": 169,
   "id": "abe75460",
   "metadata": {},
   "outputs": [
    {
     "data": {
      "text/plain": [
       "array(['A', 'B', 'C'], dtype=object)"
      ]
     },
     "execution_count": 169,
     "metadata": {},
     "output_type": "execute_result"
    }
   ],
   "source": [
    "df.SectionID.unique()"
   ]
  },
  {
   "cell_type": "code",
   "execution_count": 170,
   "id": "6dbe46c4",
   "metadata": {},
   "outputs": [
    {
     "data": {
      "text/plain": [
       "array(['IT', 'Math', 'Arabic', 'Science', 'English', 'Quran', 'Spanish',\n",
       "       'French', 'History', 'Biology', 'Chemistry', 'Geology'],\n",
       "      dtype=object)"
      ]
     },
     "execution_count": 170,
     "metadata": {},
     "output_type": "execute_result"
    }
   ],
   "source": [
    "df.Topic.unique()"
   ]
  },
  {
   "cell_type": "code",
   "execution_count": 171,
   "id": "5f4f8d8b",
   "metadata": {},
   "outputs": [
    {
     "data": {
      "text/plain": [
       "array(['F', 'S'], dtype=object)"
      ]
     },
     "execution_count": 171,
     "metadata": {},
     "output_type": "execute_result"
    }
   ],
   "source": [
    "df.Semester.unique()"
   ]
  },
  {
   "cell_type": "code",
   "execution_count": 172,
   "id": "3654464c",
   "metadata": {},
   "outputs": [
    {
     "data": {
      "text/plain": [
       "array(['Father', 'Mum'], dtype=object)"
      ]
     },
     "execution_count": 172,
     "metadata": {},
     "output_type": "execute_result"
    }
   ],
   "source": [
    "df.Relation.unique()"
   ]
  },
  {
   "cell_type": "code",
   "execution_count": 173,
   "id": "32a6445e",
   "metadata": {},
   "outputs": [
    {
     "data": {
      "text/plain": [
       "array(['Yes', 'No'], dtype=object)"
      ]
     },
     "execution_count": 173,
     "metadata": {},
     "output_type": "execute_result"
    }
   ],
   "source": [
    "df.ParentAnsweringSurvey.unique()"
   ]
  },
  {
   "cell_type": "code",
   "execution_count": 174,
   "id": "3fedfff9",
   "metadata": {},
   "outputs": [
    {
     "data": {
      "text/plain": [
       "array(['Good', 'Bad'], dtype=object)"
      ]
     },
     "execution_count": 174,
     "metadata": {},
     "output_type": "execute_result"
    }
   ],
   "source": [
    "df.ParentschoolSatisfaction.unique()"
   ]
  },
  {
   "cell_type": "code",
   "execution_count": 198,
   "id": "9556db51",
   "metadata": {},
   "outputs": [
    {
     "data": {
      "text/plain": [
       "array(['Under-7', 'Above-7'], dtype=object)"
      ]
     },
     "execution_count": 198,
     "metadata": {},
     "output_type": "execute_result"
    }
   ],
   "source": [
    "df.StudentAbsenceDays.unique()"
   ]
  },
  {
   "cell_type": "code",
   "execution_count": 199,
   "id": "c8d9ecc3",
   "metadata": {},
   "outputs": [],
   "source": [
    "# Let's preprocess categorical features\n",
    "\n",
    "#intialize label encoder\n",
    "le = LabelEncoder()\n",
    "\n",
    "\n",
    "df['gender'] = le.fit_transform(df['gender'])\n",
    "df['NationalITy'] = le.fit_transform(df['NationalITy'])\n",
    "df['PlaceofBirth'] = le.fit_transform(df['PlaceofBirth'])\n",
    "df['StageID'] = le.fit_transform(df['StageID'])\n",
    "df['GradeID'] = le.fit_transform(df['GradeID'])\n",
    "\n",
    "df['SectionID'] = le.fit_transform(df['SectionID'])\n",
    "df['Topic'] = le.fit_transform(df['Topic'])\n",
    "df['Semester'] = le.fit_transform(df['Semester'])\n",
    "df['Relation'] = le.fit_transform(df['Relation'])\n",
    "df['ParentAnsweringSurvey'] = le.fit_transform(df['ParentAnsweringSurvey'])\n",
    "df['ParentschoolSatisfaction'] = le.fit_transform(df['ParentschoolSatisfaction'])\n",
    "df['StudentAbsenceDays'] = le.fit_transform(df['StudentAbsenceDays'])\n",
    "df['Class'] = le.fit_transform(df['Class'])"
   ]
  },
  {
   "cell_type": "code",
   "execution_count": 200,
   "id": "4829ff0a",
   "metadata": {},
   "outputs": [
    {
     "data": {
      "text/plain": [
       "2    211\n",
       "0    142\n",
       "1    127\n",
       "Name: Class, dtype: int64"
      ]
     },
     "execution_count": 200,
     "metadata": {},
     "output_type": "execute_result"
    }
   ],
   "source": [
    "df.Class.value_counts()"
   ]
  },
  {
   "cell_type": "code",
   "execution_count": 177,
   "id": "0d1e1bdc",
   "metadata": {},
   "outputs": [
    {
     "data": {
      "text/html": [
       "<div>\n",
       "<style scoped>\n",
       "    .dataframe tbody tr th:only-of-type {\n",
       "        vertical-align: middle;\n",
       "    }\n",
       "\n",
       "    .dataframe tbody tr th {\n",
       "        vertical-align: top;\n",
       "    }\n",
       "\n",
       "    .dataframe thead th {\n",
       "        text-align: right;\n",
       "    }\n",
       "</style>\n",
       "<table border=\"1\" class=\"dataframe\">\n",
       "  <thead>\n",
       "    <tr style=\"text-align: right;\">\n",
       "      <th></th>\n",
       "      <th>gender</th>\n",
       "      <th>NationalITy</th>\n",
       "      <th>PlaceofBirth</th>\n",
       "      <th>StageID</th>\n",
       "      <th>GradeID</th>\n",
       "      <th>SectionID</th>\n",
       "      <th>Topic</th>\n",
       "      <th>Semester</th>\n",
       "      <th>Relation</th>\n",
       "      <th>raisedhands</th>\n",
       "      <th>VisITedResources</th>\n",
       "      <th>AnnouncementsView</th>\n",
       "      <th>Discussion</th>\n",
       "      <th>ParentAnsweringSurvey</th>\n",
       "      <th>ParentschoolSatisfaction</th>\n",
       "      <th>StudentAbsenceDays</th>\n",
       "      <th>Class</th>\n",
       "    </tr>\n",
       "  </thead>\n",
       "  <tbody>\n",
       "    <tr>\n",
       "      <th>0</th>\n",
       "      <td>1</td>\n",
       "      <td>4</td>\n",
       "      <td>4</td>\n",
       "      <td>2</td>\n",
       "      <td>1</td>\n",
       "      <td>0</td>\n",
       "      <td>7</td>\n",
       "      <td>0</td>\n",
       "      <td>0</td>\n",
       "      <td>15</td>\n",
       "      <td>16</td>\n",
       "      <td>2</td>\n",
       "      <td>20</td>\n",
       "      <td>1</td>\n",
       "      <td>1</td>\n",
       "      <td>1</td>\n",
       "      <td>2</td>\n",
       "    </tr>\n",
       "    <tr>\n",
       "      <th>1</th>\n",
       "      <td>1</td>\n",
       "      <td>4</td>\n",
       "      <td>4</td>\n",
       "      <td>2</td>\n",
       "      <td>1</td>\n",
       "      <td>0</td>\n",
       "      <td>7</td>\n",
       "      <td>0</td>\n",
       "      <td>0</td>\n",
       "      <td>20</td>\n",
       "      <td>20</td>\n",
       "      <td>3</td>\n",
       "      <td>25</td>\n",
       "      <td>1</td>\n",
       "      <td>1</td>\n",
       "      <td>1</td>\n",
       "      <td>2</td>\n",
       "    </tr>\n",
       "    <tr>\n",
       "      <th>2</th>\n",
       "      <td>1</td>\n",
       "      <td>4</td>\n",
       "      <td>4</td>\n",
       "      <td>2</td>\n",
       "      <td>1</td>\n",
       "      <td>0</td>\n",
       "      <td>7</td>\n",
       "      <td>0</td>\n",
       "      <td>0</td>\n",
       "      <td>10</td>\n",
       "      <td>7</td>\n",
       "      <td>0</td>\n",
       "      <td>30</td>\n",
       "      <td>0</td>\n",
       "      <td>0</td>\n",
       "      <td>0</td>\n",
       "      <td>1</td>\n",
       "    </tr>\n",
       "    <tr>\n",
       "      <th>3</th>\n",
       "      <td>1</td>\n",
       "      <td>4</td>\n",
       "      <td>4</td>\n",
       "      <td>2</td>\n",
       "      <td>1</td>\n",
       "      <td>0</td>\n",
       "      <td>7</td>\n",
       "      <td>0</td>\n",
       "      <td>0</td>\n",
       "      <td>30</td>\n",
       "      <td>25</td>\n",
       "      <td>5</td>\n",
       "      <td>35</td>\n",
       "      <td>0</td>\n",
       "      <td>0</td>\n",
       "      <td>0</td>\n",
       "      <td>1</td>\n",
       "    </tr>\n",
       "    <tr>\n",
       "      <th>4</th>\n",
       "      <td>1</td>\n",
       "      <td>4</td>\n",
       "      <td>4</td>\n",
       "      <td>2</td>\n",
       "      <td>1</td>\n",
       "      <td>0</td>\n",
       "      <td>7</td>\n",
       "      <td>0</td>\n",
       "      <td>0</td>\n",
       "      <td>40</td>\n",
       "      <td>50</td>\n",
       "      <td>12</td>\n",
       "      <td>50</td>\n",
       "      <td>0</td>\n",
       "      <td>0</td>\n",
       "      <td>0</td>\n",
       "      <td>2</td>\n",
       "    </tr>\n",
       "  </tbody>\n",
       "</table>\n",
       "</div>"
      ],
      "text/plain": [
       "   gender  NationalITy  PlaceofBirth  StageID  GradeID  SectionID  Topic  \\\n",
       "0       1            4             4        2        1          0      7   \n",
       "1       1            4             4        2        1          0      7   \n",
       "2       1            4             4        2        1          0      7   \n",
       "3       1            4             4        2        1          0      7   \n",
       "4       1            4             4        2        1          0      7   \n",
       "\n",
       "   Semester  Relation  raisedhands  VisITedResources  AnnouncementsView  \\\n",
       "0         0         0           15                16                  2   \n",
       "1         0         0           20                20                  3   \n",
       "2         0         0           10                 7                  0   \n",
       "3         0         0           30                25                  5   \n",
       "4         0         0           40                50                 12   \n",
       "\n",
       "   Discussion  ParentAnsweringSurvey  ParentschoolSatisfaction  \\\n",
       "0          20                      1                         1   \n",
       "1          25                      1                         1   \n",
       "2          30                      0                         0   \n",
       "3          35                      0                         0   \n",
       "4          50                      0                         0   \n",
       "\n",
       "   StudentAbsenceDays  Class  \n",
       "0                   1      2  \n",
       "1                   1      2  \n",
       "2                   0      1  \n",
       "3                   0      1  \n",
       "4                   0      2  "
      ]
     },
     "execution_count": 177,
     "metadata": {},
     "output_type": "execute_result"
    }
   ],
   "source": [
    "# Let's view data after conversion\n",
    "df.head()"
   ]
  },
  {
   "cell_type": "code",
   "execution_count": 178,
   "id": "7985e9f8",
   "metadata": {},
   "outputs": [],
   "source": [
    "# Let's split the features and target\n",
    "\n",
    "feat_cols = df.drop(['Class'], axis=1)\n",
    "\n",
    "target = df['Class']\n",
    "\n",
    "cols = feat_cols.columns"
   ]
  },
  {
   "cell_type": "code",
   "execution_count": 179,
   "id": "3aa763ab",
   "metadata": {},
   "outputs": [],
   "source": [
    "# Let's define seed for reproducebility\n",
    "seed = 360"
   ]
  },
  {
   "cell_type": "code",
   "execution_count": 180,
   "id": "f22d042b",
   "metadata": {},
   "outputs": [],
   "source": [
    "# Let's scale our data set\n",
    "\n",
    "scaler = MinMaxScaler(feature_range=(0, 1))\n",
    "scaled_df = scaler.fit_transform(df[cols])\n"
   ]
  },
  {
   "cell_type": "code",
   "execution_count": 181,
   "id": "0d75eeca",
   "metadata": {},
   "outputs": [
    {
     "data": {
      "text/plain": [
       "array([[1.        , 0.30769231, 0.30769231, 1.        , 0.11111111,\n",
       "        0.        , 0.63636364, 0.        , 0.        , 0.15      ,\n",
       "        0.16161616, 0.02040816, 0.19387755, 1.        , 1.        ,\n",
       "        1.        ]])"
      ]
     },
     "execution_count": 181,
     "metadata": {},
     "output_type": "execute_result"
    }
   ],
   "source": [
    "# show scaled data set \n",
    "scaled_df[:1]"
   ]
  },
  {
   "cell_type": "code",
   "execution_count": 182,
   "id": "76ab31d0",
   "metadata": {},
   "outputs": [
    {
     "data": {
      "text/plain": [
       "(480, 16)"
      ]
     },
     "execution_count": 182,
     "metadata": {},
     "output_type": "execute_result"
    }
   ],
   "source": [
    "scaled_df.shape"
   ]
  },
  {
   "cell_type": "code",
   "execution_count": 183,
   "id": "d5e56886",
   "metadata": {},
   "outputs": [],
   "source": [
    "# let's split data , for model training\n",
    "\n",
    "X_train, X_test, y_train, y_test = train_test_split(scaled_df, target, stratify = target, test_size = 0.2, random_state = seed)"
   ]
  },
  {
   "cell_type": "code",
   "execution_count": 184,
   "id": "41781539",
   "metadata": {},
   "outputs": [
    {
     "name": "stdout",
     "output_type": "stream",
     "text": [
      "Accuracy of the model:  0.8541666666666666\n"
     ]
    }
   ],
   "source": [
    "from sklearn.metrics import accuracy_score , confusion_matrix\n",
    "\n",
    "# initialize the model\n",
    "\n",
    "model = RandomForestClassifier(n_estimators=100, random_state=42)\n",
    "\n",
    "# training model \n",
    "\n",
    "model.fit(X_train, y_train)\n",
    "\n",
    "y_pred = model.predict(X_test)\n",
    "\n",
    "# Evaluate\n",
    "\n",
    "print(\"Accuracy of the model: \", accuracy_score(y_test, y_pred))"
   ]
  },
  {
   "cell_type": "code",
   "execution_count": 185,
   "id": "56a62e3e",
   "metadata": {},
   "outputs": [
    {
     "name": "stdout",
     "output_type": "stream",
     "text": [
      "[[23  0  6]\n",
      " [ 0 23  2]\n",
      " [ 3  3 36]]\n"
     ]
    }
   ],
   "source": [
    "# Evaluate with confusion matrix\n",
    "\n",
    "print(confusion_matrix(y_test, y_pred))"
   ]
  },
  {
   "cell_type": "code",
   "execution_count": 186,
   "id": "1b4c82e5",
   "metadata": {},
   "outputs": [
    {
     "data": {
      "text/plain": [
       "['../../models/student_performance/model_sp.sav']"
      ]
     },
     "execution_count": 186,
     "metadata": {},
     "output_type": "execute_result"
    }
   ],
   "source": [
    "# Let's store our model\n",
    "\n",
    "#Sava the model to disk\n",
    "filename = '../../models/student_performance/model_sp.sav'\n",
    "joblib.dump(model, filename)"
   ]
  },
  {
   "cell_type": "code",
   "execution_count": null,
   "id": "2b6510c6",
   "metadata": {},
   "outputs": [],
   "source": []
  }
 ],
 "metadata": {
  "kernelspec": {
   "display_name": "Python 3",
   "language": "python",
   "name": "python3"
  },
  "language_info": {
   "codemirror_mode": {
    "name": "ipython",
    "version": 3
   },
   "file_extension": ".py",
   "mimetype": "text/x-python",
   "name": "python",
   "nbconvert_exporter": "python",
   "pygments_lexer": "ipython3",
   "version": "3.8.8"
  }
 },
 "nbformat": 4,
 "nbformat_minor": 5
}
